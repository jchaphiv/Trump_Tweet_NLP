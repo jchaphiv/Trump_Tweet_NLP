{
 "cells": [
  {
   "cell_type": "markdown",
   "metadata": {},
   "source": [
    "## Capstone Project Idea - Justin Chaphiv"
   ]
  },
  {
   "cell_type": "markdown",
   "metadata": {},
   "source": [
    "### Background\n",
    "A while back I read a post by a reddit user who compared President trump's Tweets to price changes in stocks. The reddit user would take tweets in which Trump talked about trade negotiations with China and stock values of companies that relied heavily on production in China like computer hardware manfacturers, clothing retailers, etc. They noticed that everytime Trump tweeted negatively about trade negotations there would be decline in the stock's value the following trading day and vice-versa if Trump tweeted something positive about trade negotations. Which leads me to my capstone project idea."
   ]
  },
  {
   "cell_type": "markdown",
   "metadata": {},
   "source": [
    "### Capstone Project Requirements:\n",
    "<b>Hypothesis:</b> If Trump tweets something negative about the economy then we should see a decrease in value of major indexes and certain stocks.\n",
    "<br><b>Goals and Success Metrics:</b>\n",
    "<br>-identify which words are most likely to cause a change in the chosen stock/index value and whether they have a negative or positive impact on the stock/index.\n",
    "<br>-be able to predict and measure the % change caused by the tweet in the stock/index value.\n",
    "<br><b>Risks or Limiations:</b>\n",
    "<br>-Swings in financial markets are caused by multiple variables acting on it so while we might see a strong correlation between one of Trump's tweets and the change in a stock/index value. The change in value could be caused by something completely different. \n",
    "<br>-black swan events occuring in markets\n",
    "<br>-plenty of factors go into determining the value of stock so isolating the effect of Trump's tweets on the stock/index may prove to be difficult."
   ]
  },
  {
   "cell_type": "markdown",
   "metadata": {},
   "source": [
    "### Data Sets\n",
    "The site, http://www.trumptwitterarchive.com/. Archives all of trumps tweets and allows anyone to export them into a CSV file format. \n",
    "<br>Im still determining which indexes and stocks I want to use in comparison with Trump Tweets but the data should be readily available for any publicly traded company on any investment website. "
   ]
  },
  {
   "cell_type": "code",
   "execution_count": null,
   "metadata": {},
   "outputs": [],
   "source": []
  }
 ],
 "metadata": {
  "kernelspec": {
   "display_name": "Python 3",
   "language": "python",
   "name": "python3"
  },
  "language_info": {
   "codemirror_mode": {
    "name": "ipython",
    "version": 3
   },
   "file_extension": ".py",
   "mimetype": "text/x-python",
   "name": "python",
   "nbconvert_exporter": "python",
   "pygments_lexer": "ipython3",
   "version": "3.7.6"
  }
 },
 "nbformat": 4,
 "nbformat_minor": 2
}
